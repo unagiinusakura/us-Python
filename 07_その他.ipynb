{
 "cells": [
  {
   "cell_type": "markdown",
   "metadata": {},
   "source": [
    "# その他"
   ]
  },
  {
   "cell_type": "markdown",
   "metadata": {},
   "source": [
    "## path関連"
   ]
  },
  {
   "cell_type": "markdown",
   "metadata": {},
   "source": [
    "## glob"
   ]
  },
  {
   "cell_type": "code",
   "execution_count": 2,
   "metadata": {},
   "outputs": [],
   "source": [
    "# globのインポート\n",
    "from glob import glob\n",
    "\n",
    "#その他のライブラリのインポート\n",
    "import numpy as np\n",
    "import pandas as pd\n",
    "import matplotlib.pyplot as plt\n",
    "import seaborn as sns\n",
    "%matplotlib inline"
   ]
  },
  {
   "cell_type": "code",
   "execution_count": 3,
   "metadata": {},
   "outputs": [
    {
     "data": {
      "text/plain": [
       "['saved_seaborn.png',\n",
       " '14_827864_bundle_archive',\n",
       " 'sample_dict.npy',\n",
       " 'Exercises_関数_解答例.ipynb',\n",
       " 'Seaborn.ipynb',\n",
       " 'util.py',\n",
       " 'savemultifig_sample.pdf',\n",
       " 'Matplotlib.ipynb',\n",
       " 'lenna.png',\n",
       " 'tmdb_5000_credits.csv',\n",
       " 'Pythonの基本.ipynb',\n",
       " '__pycache__',\n",
       " '演習CTVisualization.ipynb',\n",
       " 'NumPy.ipynb',\n",
       " 'tmdb_5000_movies.csv',\n",
       " 'tmdb_5000_movies_profit_sorted.csv',\n",
       " 'public-covid-data',\n",
       " 'cos_sin.png',\n",
       " 'その他.ipynb',\n",
       " 'sample_ndarray.npy',\n",
       " 'OpenCV.ipynb',\n",
       " 'Pandas.ipynb',\n",
       " 'ctvis.py',\n",
       " 'cropped_lenna_rgb.png',\n",
       " 'cropped_lenna.png',\n",
       " 'pdf_file.pdf',\n",
       " 'bimodal_sample.png',\n",
       " 'runtim_budget_scatter.png',\n",
       " 'text_pic.jpg']"
      ]
     },
     "execution_count": 3,
     "metadata": {},
     "output_type": "execute_result"
    }
   ],
   "source": [
    "#引数のパターンにマッチするファイルパスのリストを取得\n",
    "# * : ワイルドカード(0文字以上の任意の文字列)\n",
    "glob('*')"
   ]
  },
  {
   "cell_type": "code",
   "execution_count": 4,
   "metadata": {},
   "outputs": [
    {
     "data": {
      "text/plain": [
       "['saved_seaborn.png',\n",
       " 'lenna.png',\n",
       " 'cos_sin.png',\n",
       " 'cropped_lenna_rgb.png',\n",
       " 'cropped_lenna.png',\n",
       " 'bimodal_sample.png',\n",
       " 'runtim_budget_scatter.png']"
      ]
     },
     "execution_count": 4,
     "metadata": {},
     "output_type": "execute_result"
    }
   ],
   "source": [
    "# .pngのみ\n",
    "glob('*.png')"
   ]
  },
  {
   "cell_type": "code",
   "execution_count": 5,
   "metadata": {},
   "outputs": [
    {
     "data": {
      "text/plain": [
       "['public-covid-data/rp_im', 'public-covid-data/rp_msk']"
      ]
     },
     "execution_count": 5,
     "metadata": {},
     "output_type": "execute_result"
    }
   ],
   "source": [
    "# public-covid-data以下のフォルダ一覧\n",
    "glob('public-covid-data/*')"
   ]
  },
  {
   "cell_type": "code",
   "execution_count": 6,
   "metadata": {},
   "outputs": [
    {
     "data": {
      "text/plain": [
       "['public-covid-data/rp_im/5.nii.gz',\n",
       " 'public-covid-data/rp_im/9.nii.gz',\n",
       " 'public-covid-data/rp_im/7.nii.gz',\n",
       " 'public-covid-data/rp_im/8.nii.gz',\n",
       " 'public-covid-data/rp_im/6.nii.gz']"
      ]
     },
     "execution_count": 6,
     "metadata": {},
     "output_type": "execute_result"
    }
   ],
   "source": [
    "# 5~9で始まるファイルのみ\n",
    "glob('public-covid-data/rp_im/[5-9]*')"
   ]
  },
  {
   "cell_type": "markdown",
   "metadata": {},
   "source": [
    "## os モジュールと pathlib モジュール"
   ]
  },
  {
   "cell_type": "code",
   "execution_count": 7,
   "metadata": {},
   "outputs": [],
   "source": [
    "# os モジュールと pathlib.Pathのインポート\n",
    "import os\n",
    "from pathlib import Path"
   ]
  },
  {
   "cell_type": "code",
   "execution_count": 8,
   "metadata": {},
   "outputs": [],
   "source": [
    "#pathのインスタンス作成\n",
    "p = Path('public-covid-data')"
   ]
  },
  {
   "cell_type": "code",
   "execution_count": 9,
   "metadata": {},
   "outputs": [
    {
     "data": {
      "text/plain": [
       "[PosixPath('public-covid-data/.DS_Store'),\n",
       " PosixPath('public-covid-data/rp_im'),\n",
       " PosixPath('public-covid-data/rp_msk'),\n",
       " PosixPath('public-covid-data/.ipynb_checkpoints')]"
      ]
     },
     "execution_count": 9,
     "metadata": {},
     "output_type": "execute_result"
    }
   ],
   "source": [
    "list(p.iterdir())"
   ]
  },
  {
   "cell_type": "code",
   "execution_count": 10,
   "metadata": {},
   "outputs": [
    {
     "data": {
      "text/plain": [
       "[PosixPath('public-covid-data/rp_im/5.nii.gz'),\n",
       " PosixPath('public-covid-data/rp_im/9.nii.gz'),\n",
       " PosixPath('public-covid-data/rp_im/7.nii.gz'),\n",
       " PosixPath('public-covid-data/rp_im/3.nii.gz'),\n",
       " PosixPath('public-covid-data/rp_im/1.nii.gz'),\n",
       " PosixPath('public-covid-data/rp_im/4.nii.gz'),\n",
       " PosixPath('public-covid-data/rp_im/8.nii.gz'),\n",
       " PosixPath('public-covid-data/rp_im/6.nii.gz'),\n",
       " PosixPath('public-covid-data/rp_im/2.nii.gz')]"
      ]
     },
     "execution_count": 10,
     "metadata": {},
     "output_type": "execute_result"
    }
   ],
   "source": [
    "# rp_im以下のpathオブジェクト\n",
    "sub_p = list(p.iterdir())[1]\n",
    "list(sub_p.iterdir())"
   ]
  },
  {
   "cell_type": "code",
   "execution_count": 11,
   "metadata": {},
   "outputs": [
    {
     "data": {
      "text/plain": [
       "[PosixPath('public-covid-data/rp_im/9.nii.gz'),\n",
       " PosixPath('public-covid-data/rp_im/7.nii.gz'),\n",
       " PosixPath('public-covid-data/rp_im/8.nii.gz'),\n",
       " PosixPath('public-covid-data/rp_im/6.nii.gz')]"
      ]
     },
     "execution_count": 11,
     "metadata": {},
     "output_type": "execute_result"
    }
   ],
   "source": [
    "# p.glob()でパターンでマッチングできる\n",
    "path = list(sub_p.glob('*[6-9]*'))\n",
    "path"
   ]
  },
  {
   "cell_type": "code",
   "execution_count": 12,
   "metadata": {},
   "outputs": [
    {
     "name": "stdout",
     "output_type": "stream",
     "text": [
      "public-covid-data/rp_im 9.nii.gz\n"
     ]
    }
   ],
   "source": [
    "target_file = path[0]\n",
    "# head(フォルダパス)とtail(ファイル名)にsplit\n",
    "folder_p, file_name = os.path.split(target_file)\n",
    "print(folder_p, file_name)"
   ]
  },
  {
   "cell_type": "code",
   "execution_count": 13,
   "metadata": {},
   "outputs": [
    {
     "data": {
      "text/plain": [
       "'public-covid-data/rp_im/test.txt'"
      ]
     },
     "execution_count": 13,
     "metadata": {},
     "output_type": "execute_result"
    }
   ],
   "source": [
    "# フォルダパスとファイル名を連結させる\n",
    "new_file_path = os.path.join(folder_p, 'test.txt')\n",
    "new_file_path"
   ]
  },
  {
   "cell_type": "code",
   "execution_count": 14,
   "metadata": {},
   "outputs": [
    {
     "data": {
      "text/plain": [
       "'public-covid-data/new_folder'"
      ]
     },
     "execution_count": 14,
     "metadata": {},
     "output_type": "execute_result"
    }
   ],
   "source": [
    "# フォルダを作成する\n",
    "\n",
    "# パスの文字列を構成\n",
    "p = Path('public-covid-data')\n",
    "new_folder_name = 'new_folder'\n",
    "new_folder_path = os.path.join(p, new_folder_name)\n",
    "new_folder_path"
   ]
  },
  {
   "cell_type": "code",
   "execution_count": 14,
   "metadata": {},
   "outputs": [
    {
     "data": {
      "text/plain": [
       "False"
      ]
     },
     "execution_count": 14,
     "metadata": {},
     "output_type": "execute_result"
    }
   ],
   "source": [
    "# すでに存在するか確認\n",
    "os.path.exists(new_folder_path)"
   ]
  },
  {
   "cell_type": "code",
   "execution_count": 15,
   "metadata": {},
   "outputs": [],
   "source": [
    "# なければ作成\n",
    "if not os.path.exists(new_folder_path):\n",
    "    # 指定したフォルダを作成する\n",
    "    os.makedirs(new_folder_path)"
   ]
  },
  {
   "cell_type": "markdown",
   "metadata": {},
   "source": [
    "## tqdm"
   ]
  },
  {
   "cell_type": "code",
   "execution_count": 21,
   "metadata": {},
   "outputs": [],
   "source": [
    "# import \n",
    "from tqdm import tqdm"
   ]
  },
  {
   "cell_type": "code",
   "execution_count": 17,
   "metadata": {},
   "outputs": [
    {
     "name": "stdout",
     "output_type": "stream",
     "text": [
      "49999995000000\n",
      "it took: 1.0888652801513672\n"
     ]
    }
   ],
   "source": [
    "# 1秒ほどかかるループ処理\n",
    "import time\n",
    "before = time.time()\n",
    "sum_ = 0\n",
    "for i in range(1e7):\n",
    "    sum_ += i\n",
    "print(sum)\n",
    "after = time.time()\n",
    "print('it took: {}'.format(after - before))"
   ]
  },
  {
   "cell_type": "code",
   "execution_count": 18,
   "metadata": {},
   "outputs": [
    {
     "name": "stderr",
     "output_type": "stream",
     "text": [
      "100%|██████████| 10000000/10000000 [00:04<00:00, 2278840.54it/s]\n"
     ]
    }
   ],
   "source": [
    "# tqdmの戻り値をそのままfor文で回す\n",
    "sum = 0\n",
    "for i in tqdm(range(1e7), position=0):\n",
    "    sum += i"
   ]
  },
  {
   "cell_type": "code",
   "execution_count": 23,
   "metadata": {},
   "outputs": [
    {
     "data": {
      "text/html": [
       "<div>\n",
       "<style scoped>\n",
       "    .dataframe tbody tr th:only-of-type {\n",
       "        vertical-align: middle;\n",
       "    }\n",
       "\n",
       "    .dataframe tbody tr th {\n",
       "        vertical-align: top;\n",
       "    }\n",
       "\n",
       "    .dataframe thead th {\n",
       "        text-align: right;\n",
       "    }\n",
       "</style>\n",
       "<table border=\"1\" class=\"dataframe\">\n",
       "  <thead>\n",
       "    <tr style=\"text-align: right;\">\n",
       "      <th></th>\n",
       "      <th>path_im</th>\n",
       "      <th>filename</th>\n",
       "      <th>path_msk</th>\n",
       "    </tr>\n",
       "  </thead>\n",
       "  <tbody>\n",
       "    <tr>\n",
       "      <td>0</td>\n",
       "      <td>public-covid-data/rp_im/5.nii.gz</td>\n",
       "      <td>5.nii.gz</td>\n",
       "      <td>public-covid-data/rp_msk/5.nii.gz</td>\n",
       "    </tr>\n",
       "    <tr>\n",
       "      <td>1</td>\n",
       "      <td>public-covid-data/rp_im/9.nii.gz</td>\n",
       "      <td>9.nii.gz</td>\n",
       "      <td>public-covid-data/rp_msk/9.nii.gz</td>\n",
       "    </tr>\n",
       "    <tr>\n",
       "      <td>2</td>\n",
       "      <td>public-covid-data/rp_im/7.nii.gz</td>\n",
       "      <td>7.nii.gz</td>\n",
       "      <td>public-covid-data/rp_msk/7.nii.gz</td>\n",
       "    </tr>\n",
       "    <tr>\n",
       "      <td>3</td>\n",
       "      <td>public-covid-data/rp_im/3.nii.gz</td>\n",
       "      <td>3.nii.gz</td>\n",
       "      <td>public-covid-data/rp_msk/3.nii.gz</td>\n",
       "    </tr>\n",
       "    <tr>\n",
       "      <td>4</td>\n",
       "      <td>public-covid-data/rp_im/1.nii.gz</td>\n",
       "      <td>1.nii.gz</td>\n",
       "      <td>public-covid-data/rp_msk/1.nii.gz</td>\n",
       "    </tr>\n",
       "    <tr>\n",
       "      <td>5</td>\n",
       "      <td>public-covid-data/rp_im/4.nii.gz</td>\n",
       "      <td>4.nii.gz</td>\n",
       "      <td>public-covid-data/rp_msk/4.nii.gz</td>\n",
       "    </tr>\n",
       "    <tr>\n",
       "      <td>6</td>\n",
       "      <td>public-covid-data/rp_im/8.nii.gz</td>\n",
       "      <td>8.nii.gz</td>\n",
       "      <td>public-covid-data/rp_msk/8.nii.gz</td>\n",
       "    </tr>\n",
       "    <tr>\n",
       "      <td>7</td>\n",
       "      <td>public-covid-data/rp_im/6.nii.gz</td>\n",
       "      <td>6.nii.gz</td>\n",
       "      <td>public-covid-data/rp_msk/6.nii.gz</td>\n",
       "    </tr>\n",
       "    <tr>\n",
       "      <td>8</td>\n",
       "      <td>public-covid-data/rp_im/2.nii.gz</td>\n",
       "      <td>2.nii.gz</td>\n",
       "      <td>public-covid-data/rp_msk/2.nii.gz</td>\n",
       "    </tr>\n",
       "  </tbody>\n",
       "</table>\n",
       "</div>"
      ],
      "text/plain": [
       "                            path_im  filename  \\\n",
       "0  public-covid-data/rp_im/5.nii.gz  5.nii.gz   \n",
       "1  public-covid-data/rp_im/9.nii.gz  9.nii.gz   \n",
       "2  public-covid-data/rp_im/7.nii.gz  7.nii.gz   \n",
       "3  public-covid-data/rp_im/3.nii.gz  3.nii.gz   \n",
       "4  public-covid-data/rp_im/1.nii.gz  1.nii.gz   \n",
       "5  public-covid-data/rp_im/4.nii.gz  4.nii.gz   \n",
       "6  public-covid-data/rp_im/8.nii.gz  8.nii.gz   \n",
       "7  public-covid-data/rp_im/6.nii.gz  6.nii.gz   \n",
       "8  public-covid-data/rp_im/2.nii.gz  2.nii.gz   \n",
       "\n",
       "                            path_msk  \n",
       "0  public-covid-data/rp_msk/5.nii.gz  \n",
       "1  public-covid-data/rp_msk/9.nii.gz  \n",
       "2  public-covid-data/rp_msk/7.nii.gz  \n",
       "3  public-covid-data/rp_msk/3.nii.gz  \n",
       "4  public-covid-data/rp_msk/1.nii.gz  \n",
       "5  public-covid-data/rp_msk/4.nii.gz  \n",
       "6  public-covid-data/rp_msk/8.nii.gz  \n",
       "7  public-covid-data/rp_msk/6.nii.gz  \n",
       "8  public-covid-data/rp_msk/2.nii.gz  "
      ]
     },
     "execution_count": 23,
     "metadata": {},
     "output_type": "execute_result"
    }
   ],
   "source": [
    "# データ数が出てこない時はtotal引数を使う\n",
    "# pubic-covid-data配下のpath情報を格納したDataFrameを作成\n",
    "# filename(id), im_path, msk_path\n",
    "p = Path('public-covid-data')\n",
    "df_list = []\n",
    "for folder in p.iterdir():\n",
    "    path_list = [p.as_posix() for p in list(folder.iterdir())]\n",
    "    file_list = [os.path.split(p)[1] for p in list(folder.iterdir())]\n",
    "    df_list.append(pd.DataFrame({'path': path_list, 'filename': file_list}))\n",
    "df = df_list[0].merge(df_list[1], on='filename', suffixes=('_im', '_msk'))    \n",
    "df"
   ]
  },
  {
   "cell_type": "code",
   "execution_count": 24,
   "metadata": {},
   "outputs": [
    {
     "name": "stderr",
     "output_type": "stream",
     "text": [
      "100%|██████████| 9/9 [00:00<00:00, 1624.58it/s]"
     ]
    },
    {
     "name": "stdout",
     "output_type": "stream",
     "text": [
      "image path for public-covid-data/rp_im/5.nii.gz is here: 5.nii.gz\n",
      "image path for public-covid-data/rp_im/9.nii.gz is here: 9.nii.gz\n",
      "image path for public-covid-data/rp_im/7.nii.gz is here: 7.nii.gz\n",
      "image path for public-covid-data/rp_im/3.nii.gz is here: 3.nii.gz\n",
      "image path for public-covid-data/rp_im/1.nii.gz is here: 1.nii.gz\n",
      "image path for public-covid-data/rp_im/4.nii.gz is here: 4.nii.gz\n",
      "image path for public-covid-data/rp_im/8.nii.gz is here: 8.nii.gz\n",
      "image path for public-covid-data/rp_im/6.nii.gz is here: 6.nii.gz\n",
      "image path for public-covid-data/rp_im/2.nii.gz is here: 2.nii.gz\n"
     ]
    },
    {
     "name": "stderr",
     "output_type": "stream",
     "text": [
      "\n"
     ]
    }
   ],
   "source": [
    "for idx, row in tqdm(df.iterrows(), total=len(df)):\n",
    "    print('image path for {} is here: {}'.format(row['path_im'], row['filename']))"
   ]
  },
  {
   "cell_type": "markdown",
   "metadata": {},
   "source": [
    "## nibabel"
   ]
  },
  {
   "cell_type": "code",
   "execution_count": 25,
   "metadata": {},
   "outputs": [],
   "source": [
    "# インポート\n",
    "import nibabel as nib"
   ]
  },
  {
   "cell_type": "code",
   "execution_count": 26,
   "metadata": {},
   "outputs": [
    {
     "data": {
      "text/plain": [
       "(66, 630, 630)"
      ]
     },
     "execution_count": 26,
     "metadata": {},
     "output_type": "execute_result"
    }
   ],
   "source": [
    "path = df['path_im'].iloc[0]\n",
    "# loadしてnumpy arrayを取り出す\n",
    "def load_nifti(nifti_path):\n",
    "    im_nifti = nib.load(nifti_path)\n",
    "    data = im_nifti.get_fdata()\n",
    "    data = np.transpose(data)\n",
    "    return data\n",
    "data = load_nifti(path)\n",
    "data.shape"
   ]
  },
  {
   "cell_type": "code",
   "execution_count": 27,
   "metadata": {},
   "outputs": [
    {
     "data": {
      "text/plain": [
       "<matplotlib.image.AxesImage at 0x7f447dfd9090>"
      ]
     },
     "execution_count": 27,
     "metadata": {},
     "output_type": "execute_result"
    },
    {
     "data": {
      "image/png": "[encoded data removed]",
      "text/plain": [
       "<Figure size 432x288 with 1 Axes>"
      ]
     },
     "metadata": {
      "needs_background": "light"
     },
     "output_type": "display_data"
    }
   ],
   "source": [
    "plt.imshow(data[40, :, :], cmap='gray')"
   ]
  },
  {
   "cell_type": "code",
   "execution_count": 28,
   "metadata": {},
   "outputs": [
    {
     "data": {
      "text/plain": [
       "(66, 630, 630)"
      ]
     },
     "execution_count": 28,
     "metadata": {},
     "output_type": "execute_result"
    }
   ],
   "source": [
    "msk_path = df['path_msk'].iloc[0]\n",
    "msk = load_nifti(msk_path)\n",
    "msk.shape"
   ]
  },
  {
   "cell_type": "code",
   "execution_count": 29,
   "metadata": {},
   "outputs": [
    {
     "data": {
      "text/plain": [
       "<matplotlib.image.AxesImage at 0x7f447c02a810>"
      ]
     },
     "execution_count": 29,
     "metadata": {},
     "output_type": "execute_result"
    },
    {
     "data": {
      "image/png": "[encoded data removed]",
      "text/plain": [
       "<Figure size 432x288 with 1 Axes>"
      ]
     },
     "metadata": {
      "needs_background": "light"
     },
     "output_type": "display_data"
    }
   ],
   "source": [
    "plt.imshow(msk[40, :, :])"
   ]
  },
  {
   "cell_type": "code",
   "execution_count": 30,
   "metadata": {},
   "outputs": [
    {
     "data": {
      "text/plain": [
       "array([0., 1.])"
      ]
     },
     "execution_count": 30,
     "metadata": {},
     "output_type": "execute_result"
    }
   ],
   "source": [
    "np.unique(msk[40, :, :])"
   ]
  },
  {
   "cell_type": "code",
   "execution_count": 31,
   "metadata": {},
   "outputs": [],
   "source": [
    "# とりあえずslice_numカラムを追加\n",
    "df['slice_num'] = np.nan #np.nanはfloatなので，slice_numの値は全てfloatになることに注意"
   ]
  },
  {
   "cell_type": "code",
   "execution_count": 32,
   "metadata": {},
   "outputs": [
    {
     "name": "stderr",
     "output_type": "stream",
     "text": [
      "100%|██████████| 9/9 [00:18<00:00,  2.08s/it]\n"
     ]
    }
   ],
   "source": [
    "for idx, row in tqdm(df.iterrows(), total=len(df)):\n",
    "    data = load_nifti(row['path_im'])\n",
    "    # data shape is (z, h, w)\n",
    "    slice_num = data.shape[0]\n",
    "    df.loc[idx, 'slice_num'] = slice_num"
   ]
  },
  {
   "cell_type": "code",
   "execution_count": 33,
   "metadata": {},
   "outputs": [
    {
     "data": {
      "text/plain": [
       "<matplotlib.axes._subplots.AxesSubplot at 0x7f447c02ae10>"
      ]
     },
     "execution_count": 33,
     "metadata": {},
     "output_type": "execute_result"
    },
    {
     "data": {
      "image/png": "[encoded data removed]",
      "text/plain": [
       "<Figure size 432x288 with 1 Axes>"
      ]
     },
     "metadata": {
      "needs_background": "light"
     },
     "output_type": "display_data"
    }
   ],
   "source": [
    "sns.distplot(df['slice_num'])"
   ]
  },
  {
   "cell_type": "markdown",
   "metadata": {},
   "source": [
    "## multiprocessing"
   ]
  },
  {
   "cell_type": "code",
   "execution_count": 16,
   "metadata": {},
   "outputs": [],
   "source": [
    "# インポート\n",
    "from multiprocessing import Pool, cpu_count"
   ]
  },
  {
   "cell_type": "markdown",
   "metadata": {},
   "source": [
    "### map(func, iterable)"
   ]
  },
  {
   "cell_type": "code",
   "execution_count": 89,
   "metadata": {},
   "outputs": [
    {
     "data": {
      "text/plain": [
       "[1, 4, 9, 16]"
      ]
     },
     "execution_count": 89,
     "metadata": {},
     "output_type": "execute_result"
    }
   ],
   "source": [
    "def square(n):\n",
    "    return n ** 2\n",
    "\n",
    "params = [1, 2, 3, 4]\n",
    "# mapの戻り値はイテレータ\n",
    "list(map(square, params))"
   ]
  },
  {
   "cell_type": "markdown",
   "metadata": {},
   "source": [
    "## p.map(func, iterable) とp.imap(func, iterable)"
   ]
  },
  {
   "cell_type": "code",
   "execution_count": 44,
   "metadata": {},
   "outputs": [
    {
     "name": "stdout",
     "output_type": "stream",
     "text": [
      "it took 5.009947299957275 sec\n",
      "[1, 25, 9]\n"
     ]
    }
   ],
   "source": [
    "import time\n",
    "# pインスタンスを作成　（使用するCPUの物理コア数を指定）\n",
    "p = Pool(processes=cpu_count()-1)\n",
    "\n",
    "def wait_sec(sec):\n",
    "    time.sleep(sec)\n",
    "    return sec ** 2\n",
    "\n",
    "# p.map()関数で，並列処理\n",
    "before = time.time()\n",
    "# p.mapの戻り値はリスト\n",
    "results = p.map(wait_sec, [1, 5, 3])\n",
    "after = time.time()\n",
    "print('it took {} sec'.format(after-before))\n",
    "# multiprocessを閉じる\n",
    "p.close()\n",
    "p.join()\n",
    "print(results)"
   ]
  },
  {
   "cell_type": "code",
   "execution_count": 46,
   "metadata": {},
   "outputs": [
    {
     "name": "stdout",
     "output_type": "stream",
     "text": [
      "1: 1.0047399997711182 sec\n",
      "25: 5.013734579086304 sec\n",
      "9: 5.0174171924591064 sec\n"
     ]
    }
   ],
   "source": [
    "# p.imapはイテレータを返す．\n",
    "p = Pool(processes=cpu_count()-1)\n",
    "start = time.time()\n",
    "for i in p.imap(wait_sec, [1, 5, 3]):\n",
    "# imap_unorderedは処理が終わり次第返す\n",
    "# for i in p.imap_unordered(wait_sec, [1, 5, 3]):　\n",
    "    print('{}: {} sec'.format(i, time.time() - start))\n",
    "p.close()\n",
    "p.join()"
   ]
  },
  {
   "cell_type": "code",
   "execution_count": 24,
   "metadata": {},
   "outputs": [
    {
     "name": "stderr",
     "output_type": "stream",
     "text": [
      "100%|██████████| 3/3 [00:04<00:00,  1.66s/it]\n"
     ]
    }
   ],
   "source": [
    "# p.imapの戻り値はiterableなので，tqdmを使うことも可能\n",
    "p = Pool(processes=cpu_count()-1)\n",
    "results = list(tqdm(p.imap(wait_sec, [1, 5, 3]), total=3))\n",
    "p.close()\n",
    "p.join()"
   ]
  },
  {
   "cell_type": "code",
   "execution_count": 147,
   "metadata": {},
   "outputs": [
    {
     "data": {
      "text/plain": [
       "[10, 60, 210, 80]"
      ]
     },
     "execution_count": 147,
     "metadata": {},
     "output_type": "execute_result"
    }
   ],
   "source": [
    "# 複数の引数を入れる場合はラッパー関数を作る\n",
    "# ２つの引数をとる関数\n",
    "def multiply(a, b):\n",
    "    return a * b\n",
    "\n",
    "params1 = [1, 2, 3, 4]\n",
    "params2 = [10, 30, 70, 20]\n",
    "# ラッパー関数を作る\n",
    "def wrap_multiply(args):\n",
    "    # *はunpack演算子\n",
    "    return multiply(*args)\n",
    "\n",
    "# zipでタプルのリストを作成 (イテレータを返す)\n",
    "job_args = list(zip(params1, params2))\n",
    "\n",
    "# 並列処理\n",
    "p = Pool(processes=cpu_count()-1)\n",
    "results = p.imap(wrap_multiply, job_args)\n",
    "p.close()\n",
    "p.join()\n",
    "list(results)"
   ]
  },
  {
   "cell_type": "markdown",
   "metadata": {},
   "source": [
    "## Pythonスクリプトを別ファイルに保存してJupyterで読み込む"
   ]
  },
  {
   "cell_type": "code",
   "execution_count": 167,
   "metadata": {},
   "outputs": [
    {
     "name": "stdout",
     "output_type": "stream",
     "text": [
      "The autoreload extension is already loaded. To reload it, use:\n",
      "  %reload_ext autoreload\n"
     ]
    }
   ],
   "source": [
    "# 変更したモジュールが反映されるようにする\n",
    "# 'autoreload'というextensionをloadする\n",
    "%load_ext autoreload\n",
    "#　スクリプトを実行するたびに毎回reloadするように設定\n",
    "%autoreload 2\n",
    "import util"
   ]
  },
  {
   "cell_type": "code",
   "execution_count": 166,
   "metadata": {},
   "outputs": [
    {
     "name": "stdout",
     "output_type": "stream",
     "text": [
      "3 x 4 = 12!!\n"
     ]
    },
    {
     "data": {
      "text/plain": [
       "12"
      ]
     },
     "execution_count": 166,
     "metadata": {},
     "output_type": "execute_result"
    }
   ],
   "source": [
    "util.multiply(3, 4)"
   ]
  }
 ],
 "metadata": {
  "kernelspec": {
   "display_name": "Python 3",
   "language": "python",
   "name": "python3"
  },
  "language_info": {
   "codemirror_mode": {
    "name": "ipython",
    "version": 3
   },
   "file_extension": ".py",
   "mimetype": "text/x-python",
   "name": "python",
   "nbconvert_exporter": "python",
   "pygments_lexer": "ipython3",
   "version": "3.7.4"
  }
 },
 "nbformat": 4,
 "nbformat_minor": 4
}
